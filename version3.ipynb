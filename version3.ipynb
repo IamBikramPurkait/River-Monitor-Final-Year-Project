{
 "cells": [
  {
   "cell_type": "code",
   "execution_count": 1,
   "metadata": {},
   "outputs": [
    {
     "name": "stderr",
     "output_type": "stream",
     "text": [
      "c:\\Users\\bkrmp\\Desktop\\River Monitor\\env\\lib\\site-packages\\rasterio\\__init__.py:334: NotGeoreferencedWarning: Dataset has no geotransform, gcps, or rpcs. The identity matrix will be returned.\n",
      "  dataset = DatasetReader(path, driver=driver, sharing=sharing, **kwargs)\n"
     ]
    },
    {
     "ename": "IndexError",
     "evalue": "index 3 is out of bounds for axis 0 with size 3",
     "output_type": "error",
     "traceback": [
      "\u001b[1;31m---------------------------------------------------------------------------\u001b[0m",
      "\u001b[1;31mIndexError\u001b[0m                                Traceback (most recent call last)",
      "\u001b[1;32mc:\\Users\\bkrmp\\Desktop\\River Monitor\\version3.ipynb Cell 1\u001b[0m in \u001b[0;36m1\n\u001b[0;32m     <a href='vscode-notebook-cell:/c%3A/Users/bkrmp/Desktop/River%20Monitor/version3.ipynb#W0sZmlsZQ%3D%3D?line=13'>14</a>\u001b[0m \u001b[39m# Extract the necessary bands for NDWI calculation (Green and NIR)\u001b[39;00m\n\u001b[0;32m     <a href='vscode-notebook-cell:/c%3A/Users/bkrmp/Desktop/River%20Monitor/version3.ipynb#W0sZmlsZQ%3D%3D?line=14'>15</a>\u001b[0m green_band \u001b[39m=\u001b[39m image[\u001b[39m1\u001b[39m, :, :]\n\u001b[1;32m---> <a href='vscode-notebook-cell:/c%3A/Users/bkrmp/Desktop/River%20Monitor/version3.ipynb#W0sZmlsZQ%3D%3D?line=15'>16</a>\u001b[0m nir_band \u001b[39m=\u001b[39m image[\u001b[39m3\u001b[39;49m, :, :]\n\u001b[0;32m     <a href='vscode-notebook-cell:/c%3A/Users/bkrmp/Desktop/River%20Monitor/version3.ipynb#W0sZmlsZQ%3D%3D?line=17'>18</a>\u001b[0m \u001b[39m# Calculate NDWI using the extracted bands\u001b[39;00m\n\u001b[0;32m     <a href='vscode-notebook-cell:/c%3A/Users/bkrmp/Desktop/River%20Monitor/version3.ipynb#W0sZmlsZQ%3D%3D?line=18'>19</a>\u001b[0m ndwi \u001b[39m=\u001b[39m (green_band \u001b[39m-\u001b[39m nir_band) \u001b[39m/\u001b[39m (green_band \u001b[39m+\u001b[39m nir_band)\n",
      "\u001b[1;31mIndexError\u001b[0m: index 3 is out of bounds for axis 0 with size 3"
     ]
    }
   ],
   "source": [
    "# Import necessary libraries\n",
    "from skimage.morphology import binary_opening, disk\n",
    "import numpy as np\n",
    "import matplotlib.pyplot as plt\n",
    "import rasterio as rio\n",
    "from rasterio.plot import show\n",
    "from rasterio.windows import Window\n",
    "\n",
    "# Open the remotely sensed image file using Rasterio\n",
    "image_file = \"dataset/1.jpg\"\n",
    "with rio.open(image_file) as src:\n",
    "    image = src.read()\n",
    "\n",
    "# Extract the necessary bands for NDWI calculation (Green and NIR)\n",
    "green_band = image[0, :, :]\n",
    "nir_band = image[2, :, :]\n",
    "\n",
    "# Calculate NDWI using the extracted bands\n",
    "ndwi = (green_band - nir_band) / (green_band + nir_band)\n",
    "\n",
    "# Set threshold values for channel identification\n",
    "threshold_min = -0.1\n",
    "threshold_max = 0.1\n",
    "\n",
    "# Apply thresholding to the NDWI image to identify channel pixels\n",
    "channel_mask = np.logical_and(ndwi > threshold_min, ndwi < threshold_max)\n",
    "\n",
    "# Apply morphological operations to clean up the channel mask\n",
    "selem = disk(3)\n",
    "channel_mask_clean = binary_opening(channel_mask, selem)\n",
    "\n",
    "# Visualize the channel mask on the original image\n",
    "show(image, cmap='gray')\n",
    "plt.imshow(channel_mask_clean, cmap='Blues', alpha=0.3)\n",
    "\n",
    "# Save the channel mask as a new raster file\n",
    "with rio.open(\"path/to/channel_mask.tif\", 'w', driver='GTiff', width=src.width, height=src.height, count=1, dtype=rio.uint8) as dst:\n",
    "    dst.write(channel_mask_clean.astype(rio.uint8), 1)\n"
   ]
  }
 ],
 "metadata": {
  "kernelspec": {
   "display_name": "Python 3.9.0 ('env': venv)",
   "language": "python",
   "name": "python3"
  },
  "language_info": {
   "codemirror_mode": {
    "name": "ipython",
    "version": 3
   },
   "file_extension": ".py",
   "mimetype": "text/x-python",
   "name": "python",
   "nbconvert_exporter": "python",
   "pygments_lexer": "ipython3",
   "version": "3.9.0"
  },
  "vscode": {
   "interpreter": {
    "hash": "6d3badd7deca65574e80607b2f564404301a465f7a39277ef39de2005562efbe"
   }
  }
 },
 "nbformat": 4,
 "nbformat_minor": 2
}
